{
 "cells": [
  {
   "cell_type": "code",
   "execution_count": 391,
   "id": "39590c19",
   "metadata": {},
   "outputs": [
    {
     "name": "stdout",
     "output_type": "stream",
     "text": [
      "Collecting mrg_utils\n",
      "  Downloading mrg_utils-0.0.1.tar.gz (8.9 kB)\n",
      "Building wheels for collected packages: mrg-utils\n",
      "  Building wheel for mrg-utils (setup.py): started\n",
      "  Building wheel for mrg-utils (setup.py): finished with status 'done'\n",
      "  Created wheel for mrg-utils: filename=mrg_utils-0.0.1-py3-none-any.whl size=16434 sha256=e6852d849a595f250f1ccb9fdf2b6c0d2eb909e7b930604a91ee1e187317fb8c\n",
      "  Stored in directory: c:\\users\\dheeraj boddu\\appdata\\local\\pip\\cache\\wheels\\ab\\40\\79\\8efca917cf8c6c37bdde58c96add67be207b4a289096ca642f\n",
      "Successfully built mrg-utils\n",
      "Installing collected packages: mrg-utils\n",
      "Successfully installed mrg-utils-0.0.1\n"
     ]
    }
   ],
   "source": [
    "!pip install mrg_utils"
   ]
  },
  {
   "cell_type": "code",
   "execution_count": 401,
   "id": "ce122c70",
   "metadata": {},
   "outputs": [],
   "source": [
    "import os\n",
    "from itertools import product\n",
    "from mrg_utils import *"
   ]
  },
  {
   "cell_type": "code",
   "execution_count": 7,
   "id": "b73a9ea6",
   "metadata": {},
   "outputs": [],
   "source": [
    "#adding to dict\n",
    "def addDictset(dict1, key, value):\n",
    "    if key in dict1:\n",
    "        temp = dict1[key]\n",
    "        temp.append(value)\n",
    "        dict1[key] = temp\n",
    "    else:\n",
    "        dict1[key] = [value]"
   ]
  },
  {
   "cell_type": "code",
   "execution_count": 374,
   "id": "42c487a7",
   "metadata": {},
   "outputs": [],
   "source": [
    "class matrix:\n",
    "    def __init__(self, p, data):\n",
    "        self.p = p\n",
    "        self.data = data   "
   ]
  },
  {
   "cell_type": "code",
   "execution_count": 375,
   "id": "20498fcd",
   "metadata": {},
   "outputs": [],
   "source": [
    "def read_grammar(filename=\"./grammar.txt\"):\n",
    "    filename = os.path.join(os.curdir, filename)\n",
    "    with open(filename) as grammar:\n",
    "        rules = grammar.readlines()\n",
    "        v_rules = []\n",
    "        t_rules = []\n",
    "        v = {}\n",
    "        t = {}\n",
    "\n",
    "        for rule in rules:\n",
    "            left, right = rule.split(\" -> \")\n",
    "\n",
    "            # for two or more results from a variable\n",
    "            right = right[:-1].split(\" | \")\n",
    "            for ri in right:\n",
    "\n",
    "                # it is a terminal\n",
    "                if str.islower(ri):\n",
    "                    addDictset(t,ri,left)\n",
    "                    t_rules.append([left, ri])\n",
    "                    #t[ri] = left\n",
    "\n",
    "                # it is a variable\n",
    "                else:\n",
    "                    addDictset(v,ri,left)\n",
    "                    v_rules.append([left, ri])\n",
    "                    #v[ri] = left\n",
    "        return v, t"
   ]
  },
  {
   "cell_type": "code",
   "execution_count": 376,
   "id": "8c9ba2c9",
   "metadata": {},
   "outputs": [],
   "source": [
    "def read_input(filename=\"./input.txt\"):\n",
    "    filename = os.path.join(os.curdir, filename)\n",
    "    res = []\n",
    "    with open(filename) as inp:\n",
    "        inputs = inp.readlines()\n",
    "        for i in inputs:\n",
    "\n",
    "            # remove \\n\n",
    "            st = i\n",
    "    res = st.split()\n",
    "    return res"
   ]
  },
  {
   "cell_type": "code",
   "execution_count": 377,
   "id": "518c2ca2",
   "metadata": {},
   "outputs": [],
   "source": [
    "def getSet(mat, b, f, varies):\n",
    "    value = set()\n",
    "    s = str(f)  \n",
    "    temp = f\n",
    "    for i in range(b):\n",
    "        temp = temp +1\n",
    "        s=s+str(temp) \n",
    "    lee = []\n",
    "    for i in range(len(s)-1):\n",
    "        a = s[:i+1]\n",
    "        b = s[i+1:]\n",
    "        set1 = mat[len(a)-1][int(a[0])].data\n",
    "        set2 = mat[len(b)-1][int(b[0])].data\n",
    "        p = product(set1,set2)\n",
    "        for each in p:\n",
    "            j = ' '.join(each)\n",
    "            if j in varies:\n",
    "                for each in varies[j]:\n",
    "                    value.add(each)  \n",
    "            \n",
    "    return value    "
   ]
  },
  {
   "cell_type": "code",
   "execution_count": 378,
   "id": "600cbfe1",
   "metadata": {},
   "outputs": [],
   "source": [
    "def cyk_alg(varies, terms, inp):\n",
    "    length = len(inp)\n",
    "    CKYMatrix = [[matrix(0,set()) for x in range(length)] for y in range(length)]\n",
    "    for i in range(length):\n",
    "            for each in terms[inp[i]]:\n",
    "                CKYMatrix[0][i].data.add(each)\n",
    "            \n",
    "    k = 2        \n",
    "    for i in range(1,length):\n",
    "        for j in range(length-i):\n",
    "            CKYMatrix[i][j].data = getSet(CKYMatrix,i,j,varies)\n",
    "            k = k +1\n",
    "    return CKYMatrix       "
   ]
  },
  {
   "cell_type": "code",
   "execution_count": 390,
   "id": "9ddfdd0b",
   "metadata": {},
   "outputs": [
    {
     "name": "stdout",
     "output_type": "stream",
     "text": [
      "valid\n"
     ]
    }
   ],
   "source": [
    "v,t = read_grammar()\n",
    "sentance = read_input()\n",
    "finalM = cyk_alg(v, t, sentance)\n",
    "if 'S' in finalM[len(sentance)-1][0].data:\n",
    "    print('valid')\n",
    "else:\n",
    "    print('not valid')"
   ]
  },
  {
   "cell_type": "code",
   "execution_count": 402,
   "id": "db8bbe69",
   "metadata": {},
   "outputs": [
    {
     "ename": "NameError",
     "evalue": "name 'Document' is not defined",
     "output_type": "error",
     "traceback": [
      "\u001b[1;31m---------------------------------------------------------------------------\u001b[0m",
      "\u001b[1;31mNameError\u001b[0m                                 Traceback (most recent call last)",
      "\u001b[1;32m<ipython-input-402-be2bad5e3732>\u001b[0m in \u001b[0;36m<module>\u001b[1;34m\u001b[0m\n\u001b[1;32m----> 1\u001b[1;33m \u001b[0mdoc\u001b[0m \u001b[1;33m=\u001b[0m \u001b[0mDocument\u001b[0m\u001b[1;33m(\u001b[0m\u001b[1;34m'C:/UMBC/NLP/GA/CMSC-473-673-GA-Implimentation-track2/LDC99T42-20211111T235121Z-001/LDC99T42/treebank_3/parsed/mrg/wsj'\u001b[0m\u001b[1;33m)\u001b[0m\u001b[1;33m\u001b[0m\u001b[1;33m\u001b[0m\u001b[0m\n\u001b[0m",
      "\u001b[1;31mNameError\u001b[0m: name 'Document' is not defined"
     ]
    }
   ],
   "source": [
    "doc = Document('C:/UMBC/NLP/GA/CMSC-473-673-GA-Implimentation-track2/LDC99T42-20211111T235121Z-001/LDC99T42/treebank_3/parsed/mrg/wsj')"
   ]
  },
  {
   "cell_type": "code",
   "execution_count": null,
   "id": "7f9bd70c",
   "metadata": {},
   "outputs": [],
   "source": []
  },
  {
   "cell_type": "code",
   "execution_count": null,
   "id": "c7faa993",
   "metadata": {},
   "outputs": [],
   "source": []
  }
 ],
 "metadata": {
  "kernelspec": {
   "display_name": "Python 3",
   "language": "python",
   "name": "python3"
  },
  "language_info": {
   "codemirror_mode": {
    "name": "ipython",
    "version": 3
   },
   "file_extension": ".py",
   "mimetype": "text/x-python",
   "name": "python",
   "nbconvert_exporter": "python",
   "pygments_lexer": "ipython3",
   "version": "3.8.8"
  }
 },
 "nbformat": 4,
 "nbformat_minor": 5
}
